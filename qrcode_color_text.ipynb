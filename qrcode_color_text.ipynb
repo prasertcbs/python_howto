{
 "cells": [
  {
   "attachments": {},
   "cell_type": "markdown",
   "metadata": {},
   "source": [
    "# Generate QRCode with Color and Text\n",
    "- API: https://github.com/metafloor/bwip-js/wiki/Online-Barcode-API"
   ]
  },
  {
   "cell_type": "code",
   "execution_count": 9,
   "metadata": {},
   "outputs": [],
   "source": [
    "# pip install requests Pillow\n",
    "import requests\n",
    "from PIL import Image  # pillow package (Python Image Library)\n",
    "import io\n"
   ]
  },
  {
   "cell_type": "code",
   "execution_count": 14,
   "metadata": {},
   "outputs": [],
   "source": [
    "url = \"https://api-bwipjs.metafloor.com/?bcid=qrcode&text=Iron Man&alttext=Tony Stark&textsize=3&scale=4&textcolor=c700c7&barcolor=000000\"\n"
   ]
  },
  {
   "cell_type": "code",
   "execution_count": 15,
   "metadata": {},
   "outputs": [
    {
     "data": {
      "image/png": "[encoded data removed]",
      "text/plain": [
       "<PIL.PngImagePlugin.PngImageFile image mode=RGBA size=168x196>"
      ]
     },
     "execution_count": 15,
     "metadata": {},
     "output_type": "execute_result"
    }
   ],
   "source": [
    "r = requests.get(url)\n",
    "img = Image.open(io.BytesIO(r.content))\n",
    "img\n"
   ]
  },
  {
   "cell_type": "code",
   "execution_count": 16,
   "metadata": {},
   "outputs": [],
   "source": [
    "def gen_qrcode(\n",
    "    text,\n",
    "    barcolor=\"000000\",\n",
    "    alttext=\"\",\n",
    "    textsize=3,\n",
    "    scale=5,\n",
    "    textcolor=\"aaaaaa\",\n",
    "    padding=3,\n",
    "):\n",
    "    url = f\"https://api-bwipjs.metafloor.com/?bcid=qrcode&text={text}&alttext={alttext}&textsize={textsize}&scale={scale}&textcolor={textcolor}&barcolor={barcolor}&backgroundcolor=ffffff&paddingwidth={padding}&paddingheight={padding}\"\n",
    "    r = requests.get(url)\n",
    "    img = Image.open(io.BytesIO(r.content))\n",
    "    return img\n"
   ]
  },
  {
   "cell_type": "code",
   "execution_count": 20,
   "metadata": {},
   "outputs": [
    {
     "data": {
      "image/png": "[encoded data removed]",
      "text/plain": [
       "<PIL.PngImagePlugin.PngImageFile image mode=RGBA size=320x365>"
      ]
     },
     "execution_count": 20,
     "metadata": {},
     "output_type": "execute_result"
    }
   ],
   "source": [
    "img = gen_qrcode(\n",
    "    \"https://youtube.com/prasetcbs\",\n",
    "    alttext=\"prasertcbs\",\n",
    "    textsize=4,\n",
    "    textcolor=\"aa00aa\",\n",
    "    barcolor=\"ff00ff\"\n",
    ")\n",
    "img\n"
   ]
  },
  {
   "cell_type": "code",
   "execution_count": 18,
   "metadata": {},
   "outputs": [],
   "source": [
    "img.save(\"qr.png\")\n"
   ]
  },
  {
   "cell_type": "code",
   "execution_count": null,
   "metadata": {},
   "outputs": [],
   "source": []
  }
 ],
 "metadata": {
  "kernelspec": {
   "display_name": "base",
   "language": "python",
   "name": "python3"
  },
  "language_info": {
   "codemirror_mode": {
    "name": "ipython",
    "version": 3
   },
   "file_extension": ".py",
   "mimetype": "text/x-python",
   "name": "python",
   "nbconvert_exporter": "python",
   "pygments_lexer": "ipython3",
   "version": "3.9.16"
  },
  "orig_nbformat": 4,
  "vscode": {
   "interpreter": {
    "hash": "629cb9f199f624aadf5cdcebfeb0fdc9652b7a7e432d484384b677cab7914fce"
   }
  }
 },
 "nbformat": 4,
 "nbformat_minor": 2
}
